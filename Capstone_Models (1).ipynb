{
  "cells": [
    {
      "cell_type": "markdown",
      "metadata": {
        "id": "HiWZPfVaBCS4"
      },
      "source": [
        "#Importing the Libraries and Preparing the Data"
      ]
    },
    {
      "cell_type": "code",
      "execution_count": null,
      "metadata": {
        "id": "m97UgDinAyNX"
      },
      "outputs": [],
      "source": [
        "import pandas as pd\n",
        "import numpy as np\n",
        "import matplotlib.pyplot as plt\n",
        "from sklearn.naive_bayes import GaussianNB\n",
        "from sklearn.preprocessing import LabelEncoder\n",
        "from sklearn.metrics import confusion_matrix, accuracy_score\n",
        "import seaborn as sns\n",
        "\n",
        "import warnings\n",
        "warnings.filterwarnings('ignore')"
      ]
    },
    {
      "cell_type": "code",
      "execution_count": null,
      "metadata": {
        "id": "L30frukOBJRd"
      },
      "outputs": [],
      "source": [
        "# Load Training Data\n",
        "air_training = pd.read_csv(\"/content/train.csv\")\n",
        "\n",
        "\n",
        "#Eliminate specific columns from training data based on Correlation Matrix\n",
        "columns_to_drop = ['id', 'Gender', 'Gate location', 'Departure/Arrival time convenient',\n",
        "                   'Arrival Delay in Minutes', 'Departure Delay in Minutes','Unnamed: 0']\n",
        "air_training.drop(columns=columns_to_drop, inplace=True)\n",
        "\n",
        "# Convert categorical columns to numeric\n",
        "label_encoder = LabelEncoder()\n",
        "air_training['Customer Type'] = label_encoder.fit_transform(air_training['Customer Type'])\n",
        "air_training['Type of Travel'] = label_encoder.fit_transform(air_training['Type of Travel'])\n",
        "air_training['Class'] = label_encoder.fit_transform(air_training['Class'])\n",
        "\n",
        "\n",
        "#Add new columns and set binary values based on 'Class'\n",
        "air_training['Business'] = np.where(air_training['Class'] == 'Business', 1, 0)\n",
        "air_training['EcoPlus'] = np.where(air_training['Class'] == 'Eco Plus', 1, 0)\n",
        "\n",
        "# Drop the original 'Class' column since 'Business' and 'EcoPlus' columns are added\n",
        "air_training.drop(columns=['Class'], inplace=True)"
      ]
    },
    {
      "cell_type": "code",
      "execution_count": null,
      "metadata": {
        "id": "fp1lsJj-BTG0"
      },
      "outputs": [],
      "source": [
        "# Load Test Data\n",
        "air_test = pd.read_csv('/content/test.csv')\n",
        "\n",
        "# Eliminate specific columns from test data\n",
        "air_test.drop(columns=columns_to_drop, inplace=True)\n",
        "\n",
        "# Convert categorical columns to numeric for test data\n",
        "air_test['Customer Type'] = label_encoder.fit_transform(air_test['Customer Type'])\n",
        "air_test['Type of Travel'] = label_encoder.fit_transform(air_test['Type of Travel'])\n",
        "air_test['Class'] = label_encoder.fit_transform(air_test['Class'])\n",
        "\n",
        "# Add new columns and set binary values based on 'Class'\n",
        "air_test['Business'] = np.where(air_test['Class'] == 'Business', 1, 0)\n",
        "air_test['EcoPlus'] = np.where(air_test['Class'] == 'Eco Plus', 1, 0)\n",
        "\n",
        "# Drop the original 'Class' column since 'Business' and 'EcoPlus' columns are added\n",
        "air_test.drop(columns=['Class'], inplace=True)"
      ]
    },
    {
      "cell_type": "markdown",
      "metadata": {
        "id": "y3VUIzEKUAq6"
      },
      "source": [
        "#1.Naive Bayes"
      ]
    },
    {
      "cell_type": "code",
      "execution_count": null,
      "metadata": {
        "id": "loTVT4tZBWck",
        "colab": {
          "base_uri": "https://localhost:8080/"
        },
        "outputId": "21cf2be9-cd2c-4abf-b777-668510f26466"
      },
      "outputs": [
        {
          "output_type": "stream",
          "name": "stdout",
          "text": [
            "Confusion Matrix:\n",
            "[[13128  1445]\n",
            " [ 2066  9337]]\n",
            "Accuracy: 0.8648367724052972\n"
          ]
        }
      ],
      "source": [
        "X_train = air_training.drop('satisfaction', axis=1)\n",
        "y_train = air_training['satisfaction']\n",
        "X_test = air_test.drop('satisfaction', axis=1)\n",
        "y_test = air_test['satisfaction']\n",
        "\n",
        "# Create the Gaussian Naive Bayes model\n",
        "nB = GaussianNB()\n",
        "\n",
        "# Train the model\n",
        "nB.fit(X_train, y_train)\n",
        "\n",
        "# Make predictions on the test data\n",
        "y_pred = nB.predict(X_test)\n",
        "\n",
        "# Calculate the confusion matrix\n",
        "conf_matrix = confusion_matrix(y_test, y_pred)\n",
        "\n",
        "# Calculate the accuracy\n",
        "accuracy = accuracy_score(y_test, y_pred)\n",
        "\n",
        "print(\"Confusion Matrix:\")\n",
        "print(conf_matrix)\n",
        "\n",
        "print(\"Accuracy:\", accuracy)"
      ]
    },
    {
      "cell_type": "markdown",
      "metadata": {
        "id": "XAQOqa_OCsee"
      },
      "source": [
        "#2. KNN Model"
      ]
    },
    {
      "cell_type": "code",
      "execution_count": null,
      "metadata": {
        "id": "fYINm7nACx2g"
      },
      "outputs": [],
      "source": [
        "from sklearn.neighbors import KNeighborsClassifier\n",
        "from sklearn.metrics import accuracy_score\n",
        "from sklearn.model_selection import cross_val_score"
      ]
    },
    {
      "cell_type": "code",
      "execution_count": null,
      "metadata": {
        "colab": {
          "base_uri": "https://localhost:8080/",
          "height": 582
        },
        "id": "vcdioV-pBw0m",
        "outputId": "bf026fe6-1077-423e-8a87-974b7d6062af"
      },
      "outputs": [
        {
          "output_type": "stream",
          "name": "stdout",
          "text": [
            "Optimal K: 5\n"
          ]
        },
        {
          "output_type": "display_data",
          "data": {
            "text/plain": [
              "<Figure size 800x600 with 1 Axes>"
            ],
            "image/png": "[encoded data removed]"
          },
          "metadata": {}
        }
      ],
      "source": [
        "# K value to test\n",
        "k_values = [1, 3, 4, 5, 6, 7, 9, 12, 15, 20, 30, 50, 65, 80, 100]\n",
        "\n",
        "# Perform k-fold cross-validation and record the mean accuracy for each K value\n",
        "mean_accuracy = []\n",
        "for k in k_values:\n",
        "    knn_model = KNeighborsClassifier(n_neighbors=k)\n",
        "    scores = cross_val_score(knn_model, X_train, y_train, cv=5)  # 5-fold cross-validation\n",
        "    mean_accuracy.append(scores.mean())\n",
        "\n",
        "# Find the K value that gives the highest accuracy\n",
        "optimal_k = k_values[np.argmax(mean_accuracy)]\n",
        "print(\"Optimal K:\", optimal_k)\n",
        "\n",
        "# Plot the mean accuracy for each K value\n",
        "import matplotlib.pyplot as plt\n",
        "\n",
        "plt.figure(figsize=(8, 6))\n",
        "plt.plot(k_values, mean_accuracy, marker='o')\n",
        "plt.xlabel('K')\n",
        "plt.ylabel('Mean Accuracy')\n",
        "plt.title('Mean Accuracy vs. K value')\n",
        "plt.xticks(k_values)\n",
        "plt.grid(True)\n",
        "plt.show()\n"
      ]
    },
    {
      "cell_type": "code",
      "execution_count": null,
      "metadata": {
        "id": "fos8ylP0TL4u"
      },
      "outputs": [],
      "source": [
        "from sklearn.preprocessing import StandardScaler\n",
        "\n",
        "\n",
        "scaler = StandardScaler()\n",
        "X_train_scaled = scaler.fit_transform(X_train)\n",
        "X_test_scaled = scaler.transform(X_test)\n",
        "\n",
        "# Create and fit the KNN model\n",
        "knn_model = KNeighborsClassifier(n_neighbors=optimal_k)\n",
        "knn_model.fit(X_train_scaled, y_train)\n",
        "\n",
        "# Predict using the KNN model\n",
        "knn_pred = knn_model.predict(X_test_scaled)\n",
        "\n",
        "# Calculate the accuracy\n",
        "accuracy = accuracy_score(y_test, knn_pred)\n",
        "print(\"KNN Accuracy:\", accuracy)\n",
        "\n",
        "# Create a confusion matrix\n",
        "conf_matrix = confusion_matrix(y_test, knn_pred)\n",
        "print(\"Confusion Matrix:\")\n",
        "print(conf_matrix)"
      ]
    },
    {
      "cell_type": "markdown",
      "metadata": {
        "id": "HgKLK3WKIMrC"
      },
      "source": [
        "#3. CART"
      ]
    },
    {
      "cell_type": "code",
      "execution_count": null,
      "metadata": {
        "id": "4QoIthAwIi88"
      },
      "outputs": [],
      "source": [
        "from sklearn.tree import DecisionTreeClassifier,plot_tree, export_graphviz\n",
        "import pydotplus\n",
        "from sklearn.metrics import confusion_matrix, classification_report\n",
        "from sklearn.model_selection import  GridSearchCV"
      ]
    },
    {
      "cell_type": "code",
      "execution_count": null,
      "metadata": {
        "id": "hB_pPYhDCvwu"
      },
      "outputs": [],
      "source": [
        "CART_class = DecisionTreeClassifier(random_state=10)\n",
        "\n",
        "# Define the parameters for GridSearchCV\n",
        "param_grid = {\n",
        "    'criterion': ['gini', 'entropy'],\n",
        "    'splitter': ['best', 'random'],\n",
        "    'max_depth': [None,5,7, 10, 20, 30],\n",
        "    'min_samples_split': [2, 5, 10],\n",
        "    'min_samples_leaf': [1, 2, 4]\n",
        "}\n",
        "\n",
        "# Perform GridSearchCV\n",
        "grid_search = GridSearchCV(CART_class, param_grid, cv=5)\n",
        "grid_search.fit(X_train, y_train)\n",
        "\n",
        "# Get the best hyperparameters and the corresponding model\n",
        "best_params = grid_search.best_params_\n",
        "best_model = grid_search.best_estimator_\n",
        "\n",
        "\n",
        "# Print the best hyperparameters\n",
        "print(\"Best Hyperparameters:\")\n",
        "print(best_params)\n",
        "\n",
        "# Fit the best model on the training data\n",
        "best_model.fit(X_train, y_train)\n",
        "\n",
        "\n",
        "# Export the tree created by best_model and save it\n",
        "dot_data = export_graphviz(best_model, out_file=None, feature_names=air_training.drop('satisfaction', axis=1).columns,\n",
        "                           class_names=['neutral or dissatisfied', 'satisfied'], filled=True, rounded=True,\n",
        "                           special_characters=True)\n",
        "\n",
        "# Save the DOT file\n",
        "with open('decision_tree_max_depth.dot', 'w') as f:\n",
        "    f.write(dot_data)\n",
        "\n",
        "# Convert the DOT file to a PNG image\n",
        "graph = pydotplus.graph_from_dot_file('decision_tree_max_depth.dot')\n",
        "graph.write_png('decision_tree_max_depth.png')\n",
        "\n",
        "\n",
        "# CART Predictions\n",
        "CART_predict = best_model.predict(air_test.drop('satisfaction', axis=1))\n",
        "\n",
        "# Confusion Matrix\n",
        "cm = confusion_matrix(air_test['satisfaction'], CART_predict)\n",
        "\n",
        "# Classification Report\n",
        "print(\"Classification Report:\")\n",
        "print(classification_report(air_test['satisfaction'], CART_predict))\n"
      ]
    },
    {
      "cell_type": "markdown",
      "metadata": {
        "id": "Vf6QO5cNKjpH"
      },
      "source": [
        "#4. Random Forest"
      ]
    },
    {
      "cell_type": "code",
      "execution_count": null,
      "metadata": {
        "id": "enud6M_OLXSH"
      },
      "outputs": [],
      "source": [
        "from sklearn.ensemble import RandomForestClassifier\n",
        "from sklearn.metrics import confusion_matrix, accuracy_score\n",
        "from sklearn.model_selection import GridSearchCV"
      ]
    },
    {
      "cell_type": "code",
      "execution_count": null,
      "metadata": {
        "id": "CLhul7nesz-k"
      },
      "outputs": [],
      "source": [
        "fit = RandomForestClassifier(random_state=10)\n",
        "\n",
        "# Define the hyperparameters for grid search\n",
        "param_grid = {\n",
        "    'n_estimators': [100, 200],  # Number of trees in the forest\n",
        "     'max_depth': [None,10,20],  # Maximum depth of the tree\n",
        "     'min_samples_split': [2, 5, 10],  # Minimum number of samples required to split an internal node\n",
        "     'min_samples_leaf': [1, 2, 4],  # Minimum number of samples required to be at a leaf node\n",
        "}\n",
        "\n",
        "# Perform grid search cross-validation\n",
        "grid_search = GridSearchCV(fit, param_grid, cv=5)\n",
        "grid_search.fit(X_train, y_train)\n",
        "\n",
        "# Get the best hyperparameters and the corresponding model\n",
        "best_params = grid_search.best_params_\n",
        "best_model = grid_search.best_estimator_\n",
        "\n",
        "\n",
        "# Print the best hyperparameters\n",
        "print(\"Best Hyperparameters:\")\n",
        "print(best_params)"
      ]
    },
    {
      "cell_type": "code",
      "execution_count": null,
      "metadata": {
        "id": "r6WlmFBnLYFB"
      },
      "outputs": [],
      "source": [
        "best_model.fit(X_train, y_train)\n",
        "\n",
        "\n",
        "# Get feature importances\n",
        "importances = best_model.feature_importances_\n",
        "feature_names = X_train.columns\n",
        "\n",
        "\n",
        "\n",
        "# Print feature importances\n",
        "print(\"Feature Importances:\")\n",
        "for feature, importance in zip(feature_names, importances):\n",
        "    print(f\"{feature}: {importance}\")\n",
        "\n",
        "\n",
        "\n",
        "# Sort feature importances in descending order\n",
        "sorted_indices = np.argsort(importances)[::-1]\n",
        "sorted_importances = importances[sorted_indices]\n",
        "sorted_feature_names = feature_names[sorted_indices]\n",
        "\n",
        "# Create a feature importance plot\n",
        "plt.figure(figsize=(10, 6))\n",
        "sns.barplot(x=sorted_importances, y=sorted_feature_names)\n",
        "plt.xlabel('Importance')\n",
        "plt.ylabel('Features')\n",
        "plt.title('Feature Importances')\n",
        "plt.tight_layout()\n",
        "plt.show()\n",
        "\n",
        "\n",
        "# Score the RandomForestClassifier on the test data\n",
        "y_pred = best_model.predict(X_test)\n",
        "\n",
        "# Calculate accuracy and confusion matrix\n",
        "accuracy = accuracy_score(y_test, y_pred)\n",
        "conf_matrix = confusion_matrix(y_test, y_pred)\n",
        "\n",
        "print(\"\\n ******************************* \\n\")\n",
        "print(\"Accuracy:\", accuracy)\n",
        "print(\"\\n ******************************* \\n\")\n",
        "print(\"Confusion Matrix:\")\n",
        "print(conf_matrix)\n"
      ]
    },
    {
      "cell_type": "markdown",
      "metadata": {
        "id": "xbuJ4WhLmMYE"
      },
      "source": [
        "##  5. Logistic Regression"
      ]
    },
    {
      "cell_type": "code",
      "execution_count": null,
      "metadata": {
        "id": "tvcfWD-fmMFG"
      },
      "outputs": [],
      "source": [
        "from sklearn.linear_model import LogisticRegression\n",
        "!pip install dmba\n",
        "\n",
        "from dmba import classificationSummary, gainsChart, liftChart\n",
        "from dmba.metric import AIC_score"
      ]
    },
    {
      "cell_type": "code",
      "execution_count": null,
      "metadata": {
        "id": "nUXV9HRfnR0M"
      },
      "outputs": [],
      "source": [
        "# Define the Model\n",
        "log_reg = LogisticRegression()\n",
        "\n",
        "# Fit the model to the training data\n",
        "log_reg.fit(X_train, y_train)\n",
        "\n",
        "\n",
        "# Create and print a table for displaying coef and p-values of the features\n",
        "print(pd.DataFrame({'coef': log_reg.coef_[0]}, index=X_train.columns))\n",
        "log_reg_prob = log_reg.predict_proba(X_test)\n",
        "log_reg_pred = log_reg.predict(X_test)\n",
        "log_result = pd.DataFrame({'actual' : y_test,\n",
        "                             'p_0' : [p[0] for p in log_reg_prob],\n",
        "                             'p_1' : [p[1] for p in log_reg_prob],\n",
        "                             'predicted': log_reg_pred})\n",
        "log_result\n",
        "\n",
        "#Display the odds ratio for each variable\n",
        "pd.DataFrame({'coef' : log_reg.coef_[0], 'odds' : np.e**log_reg.coef_[0]}, index=X_train.columns)\n",
        "\n",
        "\n",
        "# Print summary report for the model\n",
        "classificationSummary(y_test, log_reg.predict(X_test))\n"
      ]
    },
    {
      "cell_type": "markdown",
      "source": [
        "#5.1 Forward and Backward Regression Models"
      ],
      "metadata": {
        "id": "_k_iNgorSF71"
      }
    },
    {
      "cell_type": "code",
      "execution_count": null,
      "metadata": {
        "id": "J6YX9exBpcO7",
        "collapsed": true
      },
      "outputs": [],
      "source": [
        "# Define the forward selection method\n",
        "def forward_selection(X_train, X_test, y_train, y_test):\n",
        "    selected_features = []\n",
        "    best_accuracy = 0.0\n",
        "\n",
        "    while True:\n",
        "        best_feature = None\n",
        "        for feature in X_train.columns:\n",
        "            if feature not in selected_features:\n",
        "                features_to_try = selected_features + [feature]\n",
        "\n",
        "                model = LogisticRegression()\n",
        "                model.fit(X_train[features_to_try], y_train)\n",
        "\n",
        "                y_pred = model.predict(X_test[features_to_try])\n",
        "                accuracy = accuracy_score(y_test, y_pred)\n",
        "\n",
        "                if accuracy > best_accuracy:\n",
        "                    best_accuracy = accuracy\n",
        "                    best_feature = feature\n",
        "\n",
        "        if best_feature is None:\n",
        "            break\n",
        "\n",
        "        selected_features.append(best_feature)\n",
        "        print(f\"Selected feature: {best_feature}, Accuracy: {best_accuracy:.4f}\")\n",
        "\n",
        "    return selected_features\n",
        "\n",
        "\n",
        "# Define the backward elimination method\n",
        "def backward_elimination(X_train, X_test, y_train, y_test):\n",
        "    selected_features = list(X_train.columns)\n",
        "    best_accuracy = 0.0\n",
        "\n",
        "    while len(selected_features) > 0:\n",
        "        worst_feature = None\n",
        "        for feature in selected_features:\n",
        "            features_to_try = [f for f in selected_features if f != feature]\n",
        "\n",
        "            model = LogisticRegression()\n",
        "            model.fit(X_train[features_to_try], y_train)\n",
        "\n",
        "            y_pred = model.predict(X_test[features_to_try])\n",
        "            accuracy = accuracy_score(y_test, y_pred)\n",
        "\n",
        "            if accuracy > best_accuracy:\n",
        "                best_accuracy = accuracy\n",
        "                worst_feature = feature\n",
        "\n",
        "        if worst_feature is None:\n",
        "            break\n",
        "\n",
        "        selected_features.remove(worst_feature)\n",
        "        print(f\"Removed feature: {worst_feature}, Accuracy: {best_accuracy:.4f}\")\n",
        "\n",
        "    return selected_features\n",
        "\n",
        "# Perform forward selection\n",
        "selected_features_forward = forward_selection(X_train, X_test, y_train, y_test)\n",
        "print(\"Selected features (forward selection):\", selected_features_forward)\n",
        "\n",
        "# Perform backward elimination\n",
        "selected_features_backward = backward_elimination(X_train, X_test, y_train, y_test)\n",
        "print(\"Selected features (backward elimination):\", selected_features_backward)"
      ]
    }
  ],
  "metadata": {
    "colab": {
      "provenance": []
    },
    "kernelspec": {
      "display_name": "Python 3",
      "name": "python3"
    },
    "language_info": {
      "name": "python"
    }
  },
  "nbformat": 4,
  "nbformat_minor": 0
}